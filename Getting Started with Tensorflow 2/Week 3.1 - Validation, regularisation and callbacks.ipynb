{
 "cells": [
  {
   "cell_type": "code",
   "execution_count": 8,
   "metadata": {
    "scrolled": true
   },
   "outputs": [
    {
     "name": "stdout",
     "output_type": "stream",
     "text": [
      "2.0.0\n"
     ]
    }
   ],
   "source": [
    "import tensorflow as tf\n",
    "print(tf.__version__)"
   ]
  },
  {
   "cell_type": "markdown",
   "metadata": {},
   "source": [
    "# Validation, regularisation and callbacks"
   ]
  },
  {
   "cell_type": "markdown",
   "metadata": {},
   "source": [
    " ## Coding tutorials\n",
    " #### [1. Validation sets](#coding_tutorial_1)\n",
    " #### [2. Model regularisation](#coding_tutorial_2)\n",
    " #### [3. Introduction to callbacks](#coding_tutorial_3)\n",
    " #### [4. Early stopping / patience](#coding_tutorial_4)"
   ]
  },
  {
   "cell_type": "markdown",
   "metadata": {},
   "source": [
    "***\n",
    "<a id=\"coding_tutorial_1\"></a>\n",
    "## Validation sets"
   ]
  },
  {
   "cell_type": "markdown",
   "metadata": {},
   "source": [
    "#### Load the data"
   ]
  },
  {
   "cell_type": "code",
   "execution_count": 9,
   "metadata": {},
   "outputs": [],
   "source": [
    "# Load the diabetes dataset\n",
    "from sklearn.datasets import load_diabetes\n",
    "diabetes_dataset = load_diabetes()\n",
    "\n"
   ]
  },
  {
   "cell_type": "code",
   "execution_count": 10,
   "metadata": {},
   "outputs": [
    {
     "name": "stdout",
     "output_type": "stream",
     "text": [
      ".. _diabetes_dataset:\n",
      "\n",
      "Diabetes dataset\n",
      "----------------\n",
      "\n",
      "Ten baseline variables, age, sex, body mass index, average blood\n",
      "pressure, and six blood serum measurements were obtained for each of n =\n",
      "442 diabetes patients, as well as the response of interest, a\n",
      "quantitative measure of disease progression one year after baseline.\n",
      "\n",
      "**Data Set Characteristics:**\n",
      "\n",
      "  :Number of Instances: 442\n",
      "\n",
      "  :Number of Attributes: First 10 columns are numeric predictive values\n",
      "\n",
      "  :Target: Column 11 is a quantitative measure of disease progression one year after baseline\n",
      "\n",
      "  :Attribute Information:\n",
      "      - Age\n",
      "      - Sex\n",
      "      - Body mass index\n",
      "      - Average blood pressure\n",
      "      - S1\n",
      "      - S2\n",
      "      - S3\n",
      "      - S4\n",
      "      - S5\n",
      "      - S6\n",
      "\n",
      "Note: Each of these 10 feature variables have been mean centered and scaled by the standard deviation times `n_samples` (i.e. the sum of squares of each column totals 1).\n",
      "\n",
      "Source URL:\n",
      "http://www4.stat.ncsu.edu/~boos/var.select/diabetes.html\n",
      "\n",
      "For more information see:\n",
      "Bradley Efron, Trevor Hastie, Iain Johnstone and Robert Tibshirani (2004) \"Least Angle Regression,\" Annals of Statistics (with discussion), 407-499.\n",
      "(http://web.stanford.edu/~hastie/Papers/LARS/LeastAngle_2002.pdf)\n"
     ]
    }
   ],
   "source": [
    "print(diabetes_dataset['DESCR'])"
   ]
  },
  {
   "cell_type": "code",
   "execution_count": 11,
   "metadata": {},
   "outputs": [
    {
     "name": "stdout",
     "output_type": "stream",
     "text": [
      "dict_keys(['data', 'target', 'DESCR', 'feature_names', 'data_filename', 'target_filename'])\n",
      "\n",
      " (442, 10) (442,)\n"
     ]
    }
   ],
   "source": [
    "# Save the input and target variables\n",
    "\n",
    "print(diabetes_dataset.keys())\n",
    "\n",
    "data = diabetes_dataset['data']\n",
    "targets = diabetes_dataset['target']\n",
    "\n",
    "print('\\n',data.shape, targets.shape)"
   ]
  },
  {
   "cell_type": "code",
   "execution_count": 12,
   "metadata": {},
   "outputs": [
    {
     "data": {
      "image/png": "[encoded data removed]",
      "text/plain": [
       "<Figure size 432x288 with 1 Axes>"
      ]
     },
     "metadata": {
      "needs_background": "light"
     },
     "output_type": "display_data"
    }
   ],
   "source": [
    "# Normalise the target data (this will make clearer training curves)\n",
    "import matplotlib.pyplot as plt\n",
    "%matplotlib inline\n",
    "plt.hist(targets)\n",
    "plt.show()\n"
   ]
  },
  {
   "cell_type": "code",
   "execution_count": 13,
   "metadata": {},
   "outputs": [],
   "source": [
    "targets = (targets - targets.mean())/ targets.std()"
   ]
  },
  {
   "cell_type": "code",
   "execution_count": 14,
   "metadata": {},
   "outputs": [
    {
     "data": {
      "image/png": "[encoded data removed]",
      "text/plain": [
       "<Figure size 432x288 with 1 Axes>"
      ]
     },
     "metadata": {
      "needs_background": "light"
     },
     "output_type": "display_data"
    }
   ],
   "source": [
    "plt.hist(targets)\n",
    "plt.show()"
   ]
  },
  {
   "cell_type": "code",
   "execution_count": 15,
   "metadata": {},
   "outputs": [
    {
     "name": "stdout",
     "output_type": "stream",
     "text": [
      "(397, 10)\n",
      "(397,)\n",
      "(45, 10)\n",
      "(45,)\n"
     ]
    }
   ],
   "source": [
    "# Split the data into train and test sets\n",
    "\n",
    "from sklearn.model_selection import train_test_split\n",
    "\n",
    "train_data, test_data, train_targets, test_targets = train_test_split(data, targets, test_size = 0.1)\n",
    "print(train_data.shape)\n",
    "print(train_targets.shape)\n",
    "print(test_data.shape)\n",
    "print(test_targets.shape)"
   ]
  },
  {
   "cell_type": "markdown",
   "metadata": {},
   "source": [
    "#### Train a feedforward neural network model"
   ]
  },
  {
   "cell_type": "code",
   "execution_count": 81,
   "metadata": {},
   "outputs": [],
   "source": [
    "# Build the model\n",
    "from tensorflow.keras.models import Sequential\n",
    "from tensorflow.keras.layers import Dense\n",
    "\n",
    "def get_model():\n",
    "    model = Sequential([\n",
    "        Dense(128,activation=\"relu\",input_shape = (train_data.shape[1],)),\n",
    "        Dense(128,activation=\"relu\"),\n",
    "        Dense(128,activation=\"relu\"),\n",
    "        Dense(128,activation=\"relu\"),\n",
    "        Dense(128,activation=\"relu\"),\n",
    "        Dense(128,activation=\"relu\"),\n",
    "        Dense(1)\n",
    "    ])\n",
    "    return model\n"
   ]
  },
  {
   "cell_type": "code",
   "execution_count": 44,
   "metadata": {},
   "outputs": [
    {
     "name": "stdout",
     "output_type": "stream",
     "text": [
      "(10,)\n",
      "Model: \"sequential_12\"\n",
      "_________________________________________________________________\n",
      "Layer (type)                 Output Shape              Param #   \n",
      "=================================================================\n",
      "dense_84 (Dense)             (None, 128)               1408      \n",
      "_________________________________________________________________\n",
      "dense_85 (Dense)             (None, 128)               16512     \n",
      "_________________________________________________________________\n",
      "dense_86 (Dense)             (None, 128)               16512     \n",
      "_________________________________________________________________\n",
      "dense_87 (Dense)             (None, 128)               16512     \n",
      "_________________________________________________________________\n",
      "dense_88 (Dense)             (None, 128)               16512     \n",
      "_________________________________________________________________\n",
      "dense_89 (Dense)             (None, 128)               16512     \n",
      "_________________________________________________________________\n",
      "dense_90 (Dense)             (None, 1)                 129       \n",
      "=================================================================\n",
      "Total params: 84,097\n",
      "Trainable params: 84,097\n",
      "Non-trainable params: 0\n",
      "_________________________________________________________________\n"
     ]
    }
   ],
   "source": [
    "# Print the model summary\n",
    "input_shape = (train_data.shape[1],)\n",
    "print(input_shape)\n",
    "model = get_model(input_shape)\n",
    "model.summary()\n"
   ]
  },
  {
   "cell_type": "code",
   "execution_count": 45,
   "metadata": {},
   "outputs": [],
   "source": [
    "# Compile the model\n",
    "model.compile(optimizer = \"adam\",loss = \"mse\",metric = ['mae'])\n"
   ]
  },
  {
   "cell_type": "code",
   "execution_count": 46,
   "metadata": {},
   "outputs": [
    {
     "name": "stdout",
     "output_type": "stream",
     "text": [
      "Train on 337 samples, validate on 60 samples\n",
      "Epoch 1/100\n",
      "337/337 - 1s - loss: 1.0459 - val_loss: 0.7936\n",
      "Epoch 2/100\n",
      "337/337 - 0s - loss: 0.9754 - val_loss: 0.6692\n",
      "Epoch 3/100\n",
      "337/337 - 0s - loss: 0.8077 - val_loss: 0.4222\n",
      "Epoch 4/100\n",
      "337/337 - 0s - loss: 0.6070 - val_loss: 0.3853\n",
      "Epoch 5/100\n",
      "337/337 - 0s - loss: 0.5436 - val_loss: 0.3829\n",
      "Epoch 6/100\n",
      "337/337 - 0s - loss: 0.5106 - val_loss: 0.3603\n",
      "Epoch 7/100\n",
      "337/337 - 0s - loss: 0.4925 - val_loss: 0.3729\n",
      "Epoch 8/100\n",
      "337/337 - 0s - loss: 0.4911 - val_loss: 0.3790\n",
      "Epoch 9/100\n",
      "337/337 - 0s - loss: 0.4739 - val_loss: 0.4010\n",
      "Epoch 10/100\n",
      "337/337 - 0s - loss: 0.5155 - val_loss: 0.3794\n",
      "Epoch 11/100\n",
      "337/337 - 0s - loss: 0.4902 - val_loss: 0.3668\n",
      "Epoch 12/100\n",
      "337/337 - 0s - loss: 0.4550 - val_loss: 0.3709\n",
      "Epoch 13/100\n",
      "337/337 - 0s - loss: 0.4665 - val_loss: 0.3798\n",
      "Epoch 14/100\n",
      "337/337 - 0s - loss: 0.4604 - val_loss: 0.3787\n",
      "Epoch 15/100\n",
      "337/337 - 0s - loss: 0.4392 - val_loss: 0.3994\n",
      "Epoch 16/100\n",
      "337/337 - 0s - loss: 0.4394 - val_loss: 0.3712\n",
      "Epoch 17/100\n",
      "337/337 - 0s - loss: 0.4193 - val_loss: 0.4205\n",
      "Epoch 18/100\n",
      "337/337 - 0s - loss: 0.4173 - val_loss: 0.3852\n",
      "Epoch 19/100\n",
      "337/337 - 0s - loss: 0.4137 - val_loss: 0.3845\n",
      "Epoch 20/100\n",
      "337/337 - 0s - loss: 0.4237 - val_loss: 0.3927\n",
      "Epoch 21/100\n",
      "337/337 - 0s - loss: 0.4017 - val_loss: 0.4095\n",
      "Epoch 22/100\n",
      "337/337 - 0s - loss: 0.3937 - val_loss: 0.4047\n",
      "Epoch 23/100\n",
      "337/337 - 0s - loss: 0.3887 - val_loss: 0.4045\n",
      "Epoch 24/100\n",
      "337/337 - 0s - loss: 0.3878 - val_loss: 0.5010\n",
      "Epoch 25/100\n",
      "337/337 - 0s - loss: 0.3878 - val_loss: 0.3970\n",
      "Epoch 26/100\n",
      "337/337 - 0s - loss: 0.3791 - val_loss: 0.3853\n",
      "Epoch 27/100\n",
      "337/337 - 0s - loss: 0.3501 - val_loss: 0.3935\n",
      "Epoch 28/100\n",
      "337/337 - 0s - loss: 0.3356 - val_loss: 0.4577\n",
      "Epoch 29/100\n",
      "337/337 - 0s - loss: 0.3382 - val_loss: 0.4271\n",
      "Epoch 30/100\n",
      "337/337 - 0s - loss: 0.3568 - val_loss: 0.4131\n",
      "Epoch 31/100\n",
      "337/337 - 0s - loss: 0.3439 - val_loss: 0.4280\n",
      "Epoch 32/100\n",
      "337/337 - 0s - loss: 0.3457 - val_loss: 0.3986\n",
      "Epoch 33/100\n",
      "337/337 - 0s - loss: 0.3126 - val_loss: 0.5330\n",
      "Epoch 34/100\n",
      "337/337 - 0s - loss: 0.3763 - val_loss: 0.4415\n",
      "Epoch 35/100\n",
      "337/337 - 0s - loss: 0.3125 - val_loss: 0.4073\n",
      "Epoch 36/100\n",
      "337/337 - 0s - loss: 0.3425 - val_loss: 0.4103\n",
      "Epoch 37/100\n",
      "337/337 - 0s - loss: 0.3018 - val_loss: 0.4716\n",
      "Epoch 38/100\n",
      "337/337 - 0s - loss: 0.3173 - val_loss: 0.4981\n",
      "Epoch 39/100\n",
      "337/337 - 0s - loss: 0.2863 - val_loss: 0.4002\n",
      "Epoch 40/100\n",
      "337/337 - 0s - loss: 0.2957 - val_loss: 0.4099\n",
      "Epoch 41/100\n",
      "337/337 - 0s - loss: 0.2590 - val_loss: 0.4433\n",
      "Epoch 42/100\n",
      "337/337 - 0s - loss: 0.2529 - val_loss: 0.4584\n",
      "Epoch 43/100\n",
      "337/337 - 0s - loss: 0.2491 - val_loss: 0.4625\n",
      "Epoch 44/100\n",
      "337/337 - 0s - loss: 0.2294 - val_loss: 0.4415\n",
      "Epoch 45/100\n",
      "337/337 - 0s - loss: 0.2424 - val_loss: 0.4426\n",
      "Epoch 46/100\n",
      "337/337 - 0s - loss: 0.2299 - val_loss: 0.4795\n",
      "Epoch 47/100\n",
      "337/337 - 0s - loss: 0.2163 - val_loss: 0.4809\n",
      "Epoch 48/100\n",
      "337/337 - 0s - loss: 0.2043 - val_loss: 0.4566\n",
      "Epoch 49/100\n",
      "337/337 - 0s - loss: 0.2162 - val_loss: 0.4608\n",
      "Epoch 50/100\n",
      "337/337 - 0s - loss: 0.2107 - val_loss: 0.4567\n",
      "Epoch 51/100\n",
      "337/337 - 0s - loss: 0.2187 - val_loss: 0.4881\n",
      "Epoch 52/100\n",
      "337/337 - 0s - loss: 0.2475 - val_loss: 0.4727\n",
      "Epoch 53/100\n",
      "337/337 - 0s - loss: 0.2556 - val_loss: 0.4284\n",
      "Epoch 54/100\n",
      "337/337 - 0s - loss: 0.2205 - val_loss: 0.4819\n",
      "Epoch 55/100\n",
      "337/337 - 0s - loss: 0.1918 - val_loss: 0.5007\n",
      "Epoch 56/100\n",
      "337/337 - 0s - loss: 0.1777 - val_loss: 0.5051\n",
      "Epoch 57/100\n",
      "337/337 - 0s - loss: 0.1721 - val_loss: 0.5638\n",
      "Epoch 58/100\n",
      "337/337 - 0s - loss: 0.1837 - val_loss: 0.4933\n",
      "Epoch 59/100\n",
      "337/337 - 0s - loss: 0.1601 - val_loss: 0.5666\n",
      "Epoch 60/100\n",
      "337/337 - 0s - loss: 0.1854 - val_loss: 0.5103\n",
      "Epoch 61/100\n",
      "337/337 - 0s - loss: 0.1549 - val_loss: 0.5336\n",
      "Epoch 62/100\n",
      "337/337 - 0s - loss: 0.1532 - val_loss: 0.5402\n",
      "Epoch 63/100\n",
      "337/337 - 0s - loss: 0.1992 - val_loss: 0.4801\n",
      "Epoch 64/100\n",
      "337/337 - 0s - loss: 0.1467 - val_loss: 0.4901\n",
      "Epoch 65/100\n",
      "337/337 - 0s - loss: 0.1365 - val_loss: 0.5384\n",
      "Epoch 66/100\n",
      "337/337 - 0s - loss: 0.1238 - val_loss: 0.5593\n",
      "Epoch 67/100\n",
      "337/337 - 0s - loss: 0.1263 - val_loss: 0.5618\n",
      "Epoch 68/100\n",
      "337/337 - 0s - loss: 0.1231 - val_loss: 0.5651\n",
      "Epoch 69/100\n",
      "337/337 - 0s - loss: 0.1116 - val_loss: 0.5728\n",
      "Epoch 70/100\n",
      "337/337 - 0s - loss: 0.1044 - val_loss: 0.5539\n",
      "Epoch 71/100\n",
      "337/337 - 0s - loss: 0.1093 - val_loss: 0.5099\n",
      "Epoch 72/100\n",
      "337/337 - 0s - loss: 0.1047 - val_loss: 0.5666\n",
      "Epoch 73/100\n",
      "337/337 - 0s - loss: 0.1059 - val_loss: 0.5715\n",
      "Epoch 74/100\n",
      "337/337 - 0s - loss: 0.1323 - val_loss: 0.5910\n",
      "Epoch 75/100\n",
      "337/337 - 0s - loss: 0.1210 - val_loss: 0.5463\n",
      "Epoch 76/100\n",
      "337/337 - 0s - loss: 0.1042 - val_loss: 0.5344\n",
      "Epoch 77/100\n",
      "337/337 - 0s - loss: 0.0857 - val_loss: 0.5929\n",
      "Epoch 78/100\n",
      "337/337 - 0s - loss: 0.0878 - val_loss: 0.6206\n",
      "Epoch 79/100\n",
      "337/337 - 0s - loss: 0.0766 - val_loss: 0.6280\n",
      "Epoch 80/100\n",
      "337/337 - 0s - loss: 0.0829 - val_loss: 0.5736\n",
      "Epoch 81/100\n",
      "337/337 - 0s - loss: 0.1086 - val_loss: 0.5844\n",
      "Epoch 82/100\n",
      "337/337 - 0s - loss: 0.1102 - val_loss: 0.5642\n",
      "Epoch 83/100\n",
      "337/337 - 0s - loss: 0.0734 - val_loss: 0.5887\n",
      "Epoch 84/100\n",
      "337/337 - 0s - loss: 0.0653 - val_loss: 0.5806\n",
      "Epoch 85/100\n",
      "337/337 - 0s - loss: 0.0683 - val_loss: 0.6291\n",
      "Epoch 86/100\n",
      "337/337 - 0s - loss: 0.0718 - val_loss: 0.6084\n",
      "Epoch 87/100\n",
      "337/337 - 0s - loss: 0.1009 - val_loss: 0.5271\n",
      "Epoch 88/100\n",
      "337/337 - 0s - loss: 0.0732 - val_loss: 0.6255\n",
      "Epoch 89/100\n",
      "337/337 - 0s - loss: 0.0753 - val_loss: 0.7149\n",
      "Epoch 90/100\n",
      "337/337 - 0s - loss: 0.1165 - val_loss: 0.6694\n",
      "Epoch 91/100\n",
      "337/337 - 0s - loss: 0.1251 - val_loss: 0.5813\n",
      "Epoch 92/100\n",
      "337/337 - 0s - loss: 0.1084 - val_loss: 0.6140\n",
      "Epoch 93/100\n",
      "337/337 - 0s - loss: 0.0825 - val_loss: 0.5822\n",
      "Epoch 94/100\n",
      "337/337 - 0s - loss: 0.0874 - val_loss: 0.5572\n",
      "Epoch 95/100\n",
      "337/337 - 0s - loss: 0.0764 - val_loss: 0.5773\n",
      "Epoch 96/100\n",
      "337/337 - 0s - loss: 0.0594 - val_loss: 0.5860\n",
      "Epoch 97/100\n",
      "337/337 - 0s - loss: 0.0516 - val_loss: 0.5861\n",
      "Epoch 98/100\n",
      "337/337 - 0s - loss: 0.0591 - val_loss: 0.5863\n",
      "Epoch 99/100\n",
      "337/337 - 0s - loss: 0.0552 - val_loss: 0.5620\n",
      "Epoch 100/100\n",
      "337/337 - 0s - loss: 0.0627 - val_loss: 0.5655\n"
     ]
    }
   ],
   "source": [
    "# Train the model, with some of the data reserved for validation\n",
    "history = model.fit(train_data,train_targets, epochs = 100, validation_split= 0.15,batch_size = 64,verbose = 2)\n"
   ]
  },
  {
   "cell_type": "code",
   "execution_count": 47,
   "metadata": {},
   "outputs": [
    {
     "name": "stdout",
     "output_type": "stream",
     "text": [
      "45/1 - 0s - loss: 0.6269\n"
     ]
    },
    {
     "data": {
      "text/plain": [
       "0.7897362695799933"
      ]
     },
     "execution_count": 47,
     "metadata": {},
     "output_type": "execute_result"
    }
   ],
   "source": [
    "# Evaluate the model on the test set\n",
    "model.evaluate(test_data,test_targets,verbose = 2)\n"
   ]
  },
  {
   "cell_type": "markdown",
   "metadata": {},
   "source": [
    "#### Plot the learning curves"
   ]
  },
  {
   "cell_type": "code",
   "execution_count": 48,
   "metadata": {},
   "outputs": [],
   "source": [
    "import matplotlib.pyplot as plt\n",
    "%matplotlib inline"
   ]
  },
  {
   "cell_type": "code",
   "execution_count": 49,
   "metadata": {},
   "outputs": [
    {
     "data": {
      "image/png": "[encoded data removed]",
      "text/plain": [
       "<Figure size 432x288 with 1 Axes>"
      ]
     },
     "metadata": {
      "needs_background": "light"
     },
     "output_type": "display_data"
    }
   ],
   "source": [
    "# Plot the training and validation loss\n",
    "\n",
    "plt.plot(history.history['loss'])\n",
    "plt.plot(history.history['val_loss'])\n",
    "plt.title('Loss vs. epochs')\n",
    "plt.ylabel('Loss')\n",
    "plt.xlabel('Epoch')\n",
    "plt.legend(['Training', 'Validation'], loc='upper right')\n",
    "plt.show()"
   ]
  },
  {
   "cell_type": "markdown",
   "metadata": {},
   "source": [
    "***\n",
    "<a id=\"coding_tutorial_2\"></a>\n",
    "## Model regularisation"
   ]
  },
  {
   "cell_type": "markdown",
   "metadata": {},
   "source": [
    "#### Adding regularisation with weight decay and dropout"
   ]
  },
  {
   "cell_type": "code",
   "execution_count": 16,
   "metadata": {},
   "outputs": [],
   "source": [
    "from tensorflow.keras.models import Sequential\n",
    "from tensorflow.keras.layers import Dropout, Dense, Softmax\n",
    "from tensorflow.keras import regularizers"
   ]
  },
  {
   "cell_type": "code",
   "execution_count": 35,
   "metadata": {},
   "outputs": [],
   "source": [
    "def get_regularized_model(wd, rate):\n",
    "    model = Sequential([\n",
    "        Dense(128, activation=\"relu\", kernel_initializer=regularizers.l2(wd), input_shape=(train_data.shape[1],)),\n",
    "        Dropout(rate),\n",
    "        Dense(128, activation=\"relu\", kernel_initializer=regularizers.l2(wd)),\n",
    "        Dropout(rate),\n",
    "        Dense(128, activation=\"relu\", kernel_initializer=regularizers.l2(wd)),\n",
    "        Dropout(rate),\n",
    "        Dense(128, activation=\"relu\", kernel_initializer=regularizers.l2(wd)),\n",
    "        Dropout(rate),\n",
    "        Dense(128, activation=\"relu\", kernel_initializer=regularizers.l2(wd)),\n",
    "        Dropout(rate),\n",
    "        Dense(128, activation=\"relu\", kernel_initializer=regularizers.l2(wd)),\n",
    "        Dropout(rate),\n",
    "        Dense(1)\n",
    "    ])\n",
    "    return model"
   ]
  },
  {
   "cell_type": "code",
   "execution_count": 48,
   "metadata": {},
   "outputs": [],
   "source": [
    "def get_regularized_model(wd, rate):\n",
    "    model = Sequential([\n",
    "        Dense(128, activation=\"relu\", input_shape=(train_data.shape[1],)),\n",
    "        Dropout(rate),\n",
    "        Dense(128, activation=\"relu\", input_shape=(train_data.shape[1],)),\n",
    "        Dropout(rate),\n",
    "        Dense(128, activation=\"relu\", input_shape=(train_data.shape[1],)),\n",
    "        Dropout(rate),\n",
    "        Dense(128, activation=\"relu\", input_shape=(train_data.shape[1],)),\n",
    "        Dropout(rate),\n",
    "        Dense(128, activation=\"relu\", input_shape=(train_data.shape[1],)),\n",
    "        Dropout(rate),\n",
    "        Dense(1)\n",
    "    ])\n",
    "    return model"
   ]
  },
  {
   "cell_type": "code",
   "execution_count": 50,
   "metadata": {},
   "outputs": [],
   "source": [
    "# Re-build the model with weight decay and dropout layers\n",
    "model = get_regularized_model(1e-5,0.1)\n"
   ]
  },
  {
   "cell_type": "code",
   "execution_count": 53,
   "metadata": {},
   "outputs": [],
   "source": [
    "# Compile the model\n",
    "model.compile(optimizer = \"adam\",loss = \"mse\",metric = ['accuracy','mae'])"
   ]
  },
  {
   "cell_type": "code",
   "execution_count": 54,
   "metadata": {},
   "outputs": [
    {
     "name": "stdout",
     "output_type": "stream",
     "text": [
      "Train on 317 samples, validate on 80 samples\n",
      "Epoch 1/5\n",
      "317/317 - 2s - loss: 0.4767 - val_loss: 0.6424\n",
      "Epoch 2/5\n",
      "317/317 - 0s - loss: 0.4377 - val_loss: 0.6371\n",
      "Epoch 3/5\n",
      "317/317 - 0s - loss: 0.4728 - val_loss: 0.6707\n",
      "Epoch 4/5\n",
      "317/317 - 0s - loss: 0.4369 - val_loss: 0.6285\n",
      "Epoch 5/5\n",
      "317/317 - 0s - loss: 0.4155 - val_loss: 0.6868\n"
     ]
    }
   ],
   "source": [
    "# Train the model, with some of the data reserved for validation\n",
    "history = model.fit(train_data,train_targets,validation_split = 0.2,epochs = 5,verbose = 2)\n"
   ]
  },
  {
   "cell_type": "code",
   "execution_count": 73,
   "metadata": {},
   "outputs": [
    {
     "data": {
      "text/plain": [
       "(10,)"
      ]
     },
     "execution_count": 73,
     "metadata": {},
     "output_type": "execute_result"
    }
   ],
   "source": [
    "# Evaluate the model on the test set\n",
    "\n",
    "(train_data.shape[1],)"
   ]
  },
  {
   "cell_type": "markdown",
   "metadata": {},
   "source": [
    "#### Plot the learning curves"
   ]
  },
  {
   "cell_type": "code",
   "execution_count": null,
   "metadata": {},
   "outputs": [],
   "source": [
    "# Plot the training and validation loss\n",
    "\n",
    "import matplotlib.pyplot as plt\n",
    "\n",
    "plt.plot(history.history['loss'])\n",
    "plt.plot(history.history['val_loss'])\n",
    "plt.title('Loss vs. epochs')\n",
    "plt.ylabel('Loss')\n",
    "plt.xlabel('Epoch')\n",
    "plt.legend(['Training', 'Validation'], loc='upper right')\n",
    "plt.show()"
   ]
  },
  {
   "cell_type": "markdown",
   "metadata": {},
   "source": [
    "***\n",
    "<a id=\"coding_tutorial_3\"></a>\n",
    "## Introduction to callbacks"
   ]
  },
  {
   "cell_type": "markdown",
   "metadata": {},
   "source": [
    "#### Example training callback"
   ]
  },
  {
   "cell_type": "code",
   "execution_count": 70,
   "metadata": {},
   "outputs": [],
   "source": [
    "# Write a custom callback\n",
    "from tensorflow.keras.callbacks import Callback\n",
    "\n",
    "class TrainingCallback(Callback):\n",
    "    \n",
    "    def on_train_begin(self, logs = None):\n",
    "        print('starting training...')\n",
    "        \n",
    "    def on_epoch_begin(self, epoch, logs = None):\n",
    "        print(f\"training: starting epoch #{epoch}\")\n",
    "        \n",
    "    def on_train_batch_begin(self, batch, logs = None):\n",
    "        print(f\"training: starting batch #{batch}\")\n",
    "    \n",
    "    def on_train_batch_end(sefl, batch, logs = None):\n",
    "        print(f\"training: finished batch #{batch}\")\n",
    "\n",
    "    def on_epoch_end(self, epoch, logs = None):\n",
    "        print(f\"training: finished epoch #{epoch}\")\n",
    "        \n",
    "    def on_train_end(self, logs = None):\n",
    "        print('Finished Training!!')\n",
    "\n",
    "        \n",
    "class TestingCallback(Callback):\n",
    "    \n",
    "    def on_test_begin(self, logs = None):\n",
    "        print('starting testing...')\n",
    "        \n",
    "    def on_test_batch_begin(self, batch, logs = None):\n",
    "        print(f\"testing: starting batch #{batch}\")\n",
    "    \n",
    "    def on_test_batch_end(sefl, batch, logs = None):\n",
    "        print(f\"testing: finished batch #{batch}\")\n",
    "        \n",
    "    def on_test_end(self, logs = None):\n",
    "        print('Finished testing!!')\n",
    "        \n",
    "class PredictCallback(Callback):\n",
    "    \n",
    "    def on_predict_begin(self, logs = None):\n",
    "        print('starting predict...')\n",
    "        \n",
    "    def on_predict_batch_begin(self, batch, logs = None):\n",
    "        print(f\"predict: starting batch #{batch}\")\n",
    "    \n",
    "    def on_predict_batch_end(sefl, batch, logs = None):\n",
    "        print(f\"predict: finished batch #{batch}\")\n",
    "        \n",
    "    def on_predict_end(self, logs = None):\n",
    "        print('Finished predict!!')        \n",
    "        "
   ]
  },
  {
   "cell_type": "code",
   "execution_count": 71,
   "metadata": {},
   "outputs": [],
   "source": [
    "# Re-build the model\n",
    "\n",
    "model = get_regularized_model(1e-5,0.3)\n"
   ]
  },
  {
   "cell_type": "code",
   "execution_count": 72,
   "metadata": {},
   "outputs": [],
   "source": [
    "# Compile the model\n",
    "model.compile(optimizer = 'adam',loss = 'mse')\n"
   ]
  },
  {
   "cell_type": "markdown",
   "metadata": {},
   "source": [
    "#### Train the model with the callback"
   ]
  },
  {
   "cell_type": "code",
   "execution_count": 73,
   "metadata": {},
   "outputs": [
    {
     "name": "stdout",
     "output_type": "stream",
     "text": [
      "Train on 397 samples\n",
      "starting training...\n",
      "training: starting epoch #0\n",
      "Epoch 1/3\n",
      "training: starting batch #0\n",
      "training: finished batch #0\n",
      "128/397 [========>.....................] - ETA: 2s - loss: 1.1020training: starting batch #1\n",
      "training: finished batch #1\n",
      "256/397 [==================>...........] - ETA: 0s - loss: 0.9663training: starting batch #2\n",
      "training: finished batch #2\n",
      "training: starting batch #3\n",
      "training: finished batch #3\n",
      "training: finished epoch #0\n",
      "397/397 [==============================] - 1s 4ms/sample - loss: 0.9707\n",
      "training: starting epoch #1\n",
      "Epoch 2/3\n",
      "training: starting batch #0\n",
      "training: finished batch #0\n",
      "128/397 [========>.....................] - ETA: 0s - loss: 0.8745training: starting batch #1\n",
      "training: finished batch #1\n",
      "training: starting batch #2\n",
      "training: finished batch #2\n",
      "training: starting batch #3\n",
      "training: finished batch #3\n",
      "training: finished epoch #1\n",
      "397/397 [==============================] - 0s 254us/sample - loss: 0.9542\n",
      "training: starting epoch #2\n",
      "Epoch 3/3\n",
      "training: starting batch #0\n",
      "training: finished batch #0\n",
      "128/397 [========>.....................] - ETA: 0s - loss: 0.8706training: starting batch #1\n",
      "training: finished batch #1\n",
      "training: starting batch #2\n",
      "training: finished batch #2\n",
      "training: starting batch #3\n",
      "training: finished batch #3\n",
      "training: finished epoch #2\n",
      "397/397 [==============================] - 0s 254us/sample - loss: 0.9296\n",
      "Finished Training!!\n"
     ]
    },
    {
     "data": {
      "text/plain": [
       "<tensorflow.python.keras.callbacks.History at 0x7ff0081abe10>"
      ]
     },
     "execution_count": 73,
     "metadata": {},
     "output_type": "execute_result"
    }
   ],
   "source": [
    "# Train the model, with some of the data reserved for validation\n",
    "model.fit(train_data,train_targets,epochs = 3, batch_size = 128, callbacks = [TrainingCallback()])\n"
   ]
  },
  {
   "cell_type": "code",
   "execution_count": 74,
   "metadata": {},
   "outputs": [
    {
     "name": "stdout",
     "output_type": "stream",
     "text": [
      "starting testing...\n",
      "testing: starting batch #0\n",
      "testing: finished batch #0\n",
      "testing: starting batch #1\n",
      "testing: finished batch #1\n",
      "Finished testing!!\n"
     ]
    },
    {
     "data": {
      "text/plain": [
       "1.046572616365221"
      ]
     },
     "execution_count": 74,
     "metadata": {},
     "output_type": "execute_result"
    }
   ],
   "source": [
    "# Evaluate the model\n",
    "model.evaluate(test_data,test_targets,callbacks=[TestingCallback()],verbose = False)\n"
   ]
  },
  {
   "cell_type": "code",
   "execution_count": 75,
   "metadata": {},
   "outputs": [
    {
     "name": "stdout",
     "output_type": "stream",
     "text": [
      "starting predict...\n",
      "predict: starting batch #0\n",
      "predict: finished batch #0\n",
      "predict: starting batch #1\n",
      "predict: finished batch #1\n",
      "Finished predict!!\n"
     ]
    },
    {
     "data": {
      "text/plain": [
       "array([[-0.14119306],\n",
       "       [ 0.03082674],\n",
       "       [ 0.09293195],\n",
       "       [-0.15196426],\n",
       "       [-0.098998  ],\n",
       "       [ 0.11920231],\n",
       "       [-0.00855723],\n",
       "       [ 0.10234632],\n",
       "       [ 0.04485414],\n",
       "       [ 0.00816615],\n",
       "       [ 0.10623073],\n",
       "       [-0.07873701],\n",
       "       [ 0.07539482],\n",
       "       [-0.17573729],\n",
       "       [-0.06428879],\n",
       "       [-0.12579137],\n",
       "       [-0.08667483],\n",
       "       [-0.1882415 ],\n",
       "       [-0.1758638 ],\n",
       "       [-0.17710815],\n",
       "       [ 0.09557238],\n",
       "       [ 0.03051125],\n",
       "       [-0.16476753],\n",
       "       [-0.07047427],\n",
       "       [-0.1897244 ],\n",
       "       [ 0.10448547],\n",
       "       [-0.08530673],\n",
       "       [ 0.11606953],\n",
       "       [-0.12488779],\n",
       "       [ 0.12215302],\n",
       "       [-0.11727555],\n",
       "       [ 0.10672197],\n",
       "       [-0.11668836],\n",
       "       [-0.18132848],\n",
       "       [-0.02153977],\n",
       "       [-0.04335453],\n",
       "       [ 0.12299971],\n",
       "       [-0.1806118 ],\n",
       "       [-0.15403691],\n",
       "       [-0.13412125],\n",
       "       [-0.04440739],\n",
       "       [ 0.06870127],\n",
       "       [-0.17396715],\n",
       "       [-0.15665178],\n",
       "       [-0.15523313]], dtype=float32)"
      ]
     },
     "execution_count": 75,
     "metadata": {},
     "output_type": "execute_result"
    }
   ],
   "source": [
    "# Make predictions with the model\n",
    "model.predict(test_data,verbose = False,callbacks=[PredictCallback()])\n"
   ]
  },
  {
   "cell_type": "markdown",
   "metadata": {},
   "source": [
    "***\n",
    "<a id=\"coding_tutorial_4\"></a>\n",
    "## Early stopping / patience"
   ]
  },
  {
   "cell_type": "markdown",
   "metadata": {},
   "source": [
    "#### Re-train the models with early stopping"
   ]
  },
  {
   "cell_type": "code",
   "execution_count": 94,
   "metadata": {},
   "outputs": [],
   "source": [
    "# Re-train the unregularised model\n",
    "unregularised_model = get_model()\n",
    "unregularised_model.compile(optimizer = 'adam', loss = 'mse')\n",
    "unreg_history = unregularised_model.fit(train_data,train_targets, epochs = 100,\n",
    "                                       validation_split = 0.15, batch_size = 64,\n",
    "                                       verbose = False, callbacks = \n",
    "                                       [tf.keras.callbacks.EarlyStopping(patience = 10)])"
   ]
  },
  {
   "cell_type": "code",
   "execution_count": 83,
   "metadata": {},
   "outputs": [
    {
     "name": "stdout",
     "output_type": "stream",
     "text": [
      "45/1 - 0s - loss: 0.4909\n"
     ]
    },
    {
     "data": {
      "text/plain": [
       "0.5589715705977546"
      ]
     },
     "execution_count": 83,
     "metadata": {},
     "output_type": "execute_result"
    }
   ],
   "source": [
    "# Evaluate the model on the test set\n",
    "unregularised_model.evaluate(test_data,test_targets,verbose=2)\n"
   ]
  },
  {
   "cell_type": "code",
   "execution_count": 97,
   "metadata": {},
   "outputs": [],
   "source": [
    "# Re-train the regularised model\n",
    "regularized_model = get_regularized_model(1e-8,0.2)\n",
    "regularized_model.compile(optimizer = 'adam', loss = 'mse')\n",
    "reg_history = regularized_model.fit(train_data,train_targets,epochs = 100,\n",
    "                                       validation_split = 0.15, batch_size = 64,\n",
    "                                       verbose = False, callbacks = \n",
    "                                       [tf.keras.callbacks.EarlyStopping(patience = 10)])"
   ]
  },
  {
   "cell_type": "code",
   "execution_count": 98,
   "metadata": {},
   "outputs": [
    {
     "name": "stdout",
     "output_type": "stream",
     "text": [
      "45/1 - 0s - loss: 0.3010\n"
     ]
    },
    {
     "data": {
      "text/plain": [
       "0.4717845171689987"
      ]
     },
     "execution_count": 98,
     "metadata": {},
     "output_type": "execute_result"
    }
   ],
   "source": [
    "# Evaluate the model on the test set\n",
    "regularized_model.evaluate(test_data,test_targets, verbose = 2)\n"
   ]
  },
  {
   "cell_type": "code",
   "execution_count": 99,
   "metadata": {},
   "outputs": [
    {
     "data": {
      "text/plain": [
       "[0.9387915134429932,\n",
       " 0.8736163973808289,\n",
       " 0.7552022337913513,\n",
       " 0.6313043832778931,\n",
       " 0.6463908553123474,\n",
       " 0.6968931555747986,\n",
       " 0.6761332750320435,\n",
       " 0.689166784286499,\n",
       " 0.6902228593826294,\n",
       " 0.6839618682861328,\n",
       " 0.6925480961799622,\n",
       " 0.6827444434165955,\n",
       " 0.7281116247177124,\n",
       " 0.6895678043365479]"
      ]
     },
     "execution_count": 99,
     "metadata": {},
     "output_type": "execute_result"
    }
   ],
   "source": [
    "reg_history.history['val_loss']"
   ]
  },
  {
   "cell_type": "markdown",
   "metadata": {},
   "source": [
    "#### Plot the learning curves"
   ]
  },
  {
   "cell_type": "code",
   "execution_count": 100,
   "metadata": {},
   "outputs": [
    {
     "data": {
      "image/png": "[encoded data removed]",
      "text/plain": [
       "<Figure size 864x360 with 2 Axes>"
      ]
     },
     "metadata": {
      "needs_background": "light"
     },
     "output_type": "display_data"
    }
   ],
   "source": [
    "# Plot the training and validation loss\n",
    "\n",
    "import matplotlib.pyplot as plt\n",
    "\n",
    "fig = plt.figure(figsize=(12, 5))\n",
    "\n",
    "fig.add_subplot(121)\n",
    "\n",
    "plt.plot(unreg_history.history['loss'])\n",
    "plt.plot(unreg_history.history['val_loss'])\n",
    "plt.title('Unregularised model: loss vs. epochs')\n",
    "plt.ylabel('Loss')\n",
    "plt.xlabel('Epoch')\n",
    "plt.legend(['Training', 'Validation'], loc='upper right')\n",
    "\n",
    "fig.add_subplot(122)\n",
    "\n",
    "plt.plot(reg_history.history['loss'])\n",
    "plt.plot(reg_history.history['val_loss'])\n",
    "plt.title('Regularised model: loss vs. epochs')\n",
    "plt.ylabel('Loss')\n",
    "plt.xlabel('Epoch')\n",
    "plt.legend(['Training', 'Validation'], loc='upper right')\n",
    "\n",
    "plt.show()"
   ]
  },
  {
   "cell_type": "code",
   "execution_count": null,
   "metadata": {},
   "outputs": [],
   "source": []
  }
 ],
 "metadata": {
  "kernelspec": {
   "display_name": "Python 3",
   "language": "python",
   "name": "python3"
  },
  "language_info": {
   "codemirror_mode": {
    "name": "ipython",
    "version": 3
   },
   "file_extension": ".py",
   "mimetype": "text/x-python",
   "name": "python",
   "nbconvert_exporter": "python",
   "pygments_lexer": "ipython3",
   "version": "3.7.6"
  }
 },
 "nbformat": 4,
 "nbformat_minor": 2
}
